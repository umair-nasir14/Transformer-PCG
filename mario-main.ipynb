{
 "cells": [
  {
   "cell_type": "code",
   "execution_count": null,
   "metadata": {},
   "outputs": [
    {
     "name": "stderr",
     "output_type": "stream",
     "text": [
      "/home/munasir/anaconda3/envs/pytorch-gen2/lib/python3.10/site-packages/scipy/__init__.py:146: UserWarning: A NumPy version >=1.16.5 and <1.23.0 is required for this version of SciPy (detected version 1.23.1\n",
      "  warnings.warn(f\"A NumPy version >={np_minversion} and <{np_maxversion}\"\n"
     ]
    }
   ],
   "source": [
    "import pytorch_generative as pg_nn\n",
    "from pytorch_generative import models\n",
    "\n",
    "import os\n",
    "import urllib\n",
    "\n",
    "import PIL\n",
    "from PIL import Image\n",
    "import numpy as np\n",
    "import torch\n",
    "from torch import distributions\n",
    "from torch.nn import functional as F\n",
    "from torch.utils import data\n",
    "from torchvision import datasets\n",
    "from torchvision import transforms\n",
    "from torchvision.datasets import utils\n",
    "from torchvision.datasets import vision\n",
    "\n",
    "\n",
    "\n",
    "\n",
    "import torch\n",
    "from torch import distributions\n",
    "from torch import nn\n",
    "\n",
    "from pytorch_generative import nn as pg_nn\n",
    "from pytorch_generative.models import base\n",
    "#from pytorch_generative import colab_utils\n",
    "\n",
    "from skimage import io, transform\n",
    "from skimage.util import img_as_float,img_as_int,img_as_uint\n",
    "\n",
    "\n",
    "import matplotlib.pyplot as plt\n",
    "\n",
    "import wandb\n",
    "\n",
    "\n"
   ]
  },
  {
   "cell_type": "code",
   "execution_count": null,
   "metadata": {},
   "outputs": [],
   "source": [
    "def _dynamically_binarize(x):\n",
    "    return distributions.Bernoulli(probs=x).sample()\n",
    "\n",
    "\n",
    "def _resize_to_32(x):\n",
    "    return F.pad(x, (2, 2, 2, 2))"
   ]
  },
  {
   "cell_type": "code",
   "execution_count": null,
   "metadata": {},
   "outputs": [],
   "source": [
    "#np.array(Image.open('/home/munasir/image-gpt/Mario/n-gram_0.png')).shape"
   ]
  },
  {
   "cell_type": "code",
   "execution_count": null,
   "metadata": {},
   "outputs": [
    {
     "data": {
      "text/plain": [
       "<matplotlib.image.AxesImage at 0x7f8e396996c0>"
      ]
     },
     "execution_count": 4,
     "metadata": {},
     "output_type": "execute_result"
    },
    {
     "data": {
      "image/png": "[encoded data removed]",
      "text/plain": [
       "<Figure size 640x480 with 1 Axes>"
      ]
     },
     "metadata": {},
     "output_type": "display_data"
    }
   ],
   "source": [
    "plt.imshow(Image.open('/home/munasir/image-gpt/igpt-pytorch/pytorch-generative/Mario/n-gram_0.png'))"
   ]
  },
  {
   "cell_type": "code",
   "execution_count": null,
   "metadata": {},
   "outputs": [],
   "source": [
    "class MarioDataset(data.Dataset):\n",
    "    \"\"\"Face Landmarks dataset.\"\"\"\n",
    "\n",
    "    def __init__(self,train=True, transform=None):\n",
    "        \"\"\"\n",
    "        Args:\n",
    "            \n",
    "            root_dir (string): Directory with all the images.\n",
    "            train:\n",
    "            transform (callable, optional): Optional transform to be applied\n",
    "                on a sample.\n",
    "        \"\"\"\n",
    "        \n",
    "        self.transform = transform\n",
    "        self.train = train\n",
    "        \n",
    "        self.images = []\n",
    "        if self.train:\n",
    "            \n",
    "            for i in range(0,500):\n",
    "                image = Image.open('/home/munasir/image-gpt/igpt-pytorch/pytorch-generative/Mario/n-gram_'+str(i)+'.png')\n",
    "                self.images.append(image)\n",
    "        else:\n",
    "            \n",
    "            for i in range(3,5):\n",
    "                image = Image.open('/home/munasir/image-gpt/igpt-pytorch/pytorch-generative/Mario/n-gram_'+str(i)+'.png')\n",
    "                self.images.append(image)\n",
    "        \n",
    "    \n",
    "\n",
    "    def __len__(self):\n",
    "        return len(self.images)\n",
    "\n",
    "    def __getitem__(self, idx):\n",
    "        if torch.is_tensor(idx):\n",
    "            idx = idx.tolist()\n",
    "        \n",
    "        if self.train:\n",
    "            path_1 = '/home/munasir/image-gpt/igpt-pytorch/pytorch-generative/Mario/n-gram_'+str(idx)+'.png'\n",
    "        else:\n",
    "            path_1 = '/home/munasir/image-gpt/igpt-pytorch/pytorch-generative/Mario/n-gram_'+str(idx)+'.png'\n",
    "\n",
    "        \n",
    "        image = Image.open(path_1)\n",
    "        image = image.convert('RGB').resize((200,14))\n",
    "        image = np.array(image)\n",
    "        image = np.where(image>128,[255],[0])\n",
    "        #landmarks = self.landmarks_frame.iloc[idx, 1:]\n",
    "        #landmarks = np.array([landmarks])\n",
    "        #landmarks = landmarks.astype('float').reshape(-1, 2)\n",
    "        sample = image\n",
    "\n",
    "        if self.transform:\n",
    "            sample = self.transform(sample)\n",
    "\n",
    "        return sample\n",
    "\n"
   ]
  },
  {
   "cell_type": "code",
   "execution_count": null,
   "metadata": {},
   "outputs": [],
   "source": [
    "\n",
    "\n",
    "\n",
    "train_set = MarioDataset(train=True, transform=None)\n",
    "train_eval_set = MarioDataset(train=False, transform=None)"
   ]
  },
  {
   "cell_type": "code",
   "execution_count": null,
   "metadata": {},
   "outputs": [],
   "source": [
    "\n",
    "class ToTensor(object):\n",
    "    \"\"\"Convert ndarrays in sample to Tensors.\"\"\"\n",
    "\n",
    "    def __call__(self, sample):\n",
    "        image = sample\n",
    "\n",
    "        # swap color axis because\n",
    "        # numpy image: H x W x C\n",
    "        # torch image: C x H x W\n",
    "        image = image.transpose((2, 0, 1))\n",
    "        return torch.from_numpy(image)"
   ]
  },
  {
   "cell_type": "code",
   "execution_count": null,
   "metadata": {},
   "outputs": [
    {
     "name": "stdout",
     "output_type": "stream",
     "text": [
      "0 torch.Size([3, 14, 200])\n",
      "1 torch.Size([3, 14, 200])\n",
      "2 torch.Size([3, 14, 200])\n",
      "3 torch.Size([3, 14, 200])\n"
     ]
    }
   ],
   "source": [
    "\n",
    "\n",
    "\n",
    "train_set = MarioDataset(train=True, transform=transforms.Compose([ToTensor()]))\n",
    "train_eval_set = MarioDataset(train=False, transform=transforms.Compose([ToTensor()]))\n",
    "\n",
    "\n",
    "\n",
    "for i in range(len(train_set)):\n",
    "    sample = train_set[i]\n",
    "\n",
    "    print(i, sample.size())\n",
    "\n",
    "    if i == 3:\n",
    "        break"
   ]
  },
  {
   "cell_type": "code",
   "execution_count": null,
   "metadata": {},
   "outputs": [],
   "source": [
    "def get_mario_loaders(batch_size, dynamically_binarize=False, resize_to_32=False):\n",
    "    \"\"\"Create train and test loaders for the MNIST dataset.\n",
    "    Args:\n",
    "        batch_size: The batch size to use.\n",
    "        dynamically_binarize: Whether to dynamically  binarize images values to {0, 1}.\n",
    "        resize_to_32: Whether to resize the images to 32x32.\n",
    "    Returns:\n",
    "        Tuple of (train_loader, test_loader).\n",
    "    \"\"\"\n",
    "    \n",
    "    train_loader = data.DataLoader(\n",
    "        train_set,\n",
    "        batch_size=batch_size,\n",
    "        shuffle=True,\n",
    "        #num_workers=os.cpu_count()-1,\n",
    "    )\n",
    "    train_eval_loader = data.DataLoader(\n",
    "        train_eval_set,\n",
    "        batch_size=batch_size,\n",
    "        #num_workers=os.cpu_count()-1,\n",
    "    )\n",
    "    return train_loader, train_eval_loader"
   ]
  },
  {
   "cell_type": "code",
   "execution_count": null,
   "metadata": {},
   "outputs": [],
   "source": [
    "import torch\n",
    "from torch import distributions\n",
    "from torch import nn\n",
    "\n",
    "from pytorch_generative import nn as pg_nn\n",
    "from pytorch_generative.models import base\n",
    "\n",
    "\n",
    "class TransformerBlock(nn.Module):\n",
    "    \"\"\"An ImageGPT Transformer block.\"\"\"\n",
    "\n",
    "    def __init__(self, n_channels, n_attention_heads):\n",
    "        \"\"\"Initializes a new TransformerBlock instance.\n",
    "\n",
    "        Args:\n",
    "            n_channels: The number of input and output channels.\n",
    "            n_attention_heads: The number of attention heads to use.\n",
    "        \"\"\"\n",
    "        super().__init__()\n",
    "        self._ln1 = pg_nn.NCHWLayerNorm(n_channels)\n",
    "        self._ln2 = pg_nn.NCHWLayerNorm(n_channels)\n",
    "        self._attn = pg_nn.CausalAttention(\n",
    "            in_channels=n_channels,\n",
    "            n_heads=n_attention_heads,\n",
    "            embed_channels=n_channels,\n",
    "            out_channels=n_channels,\n",
    "        )\n",
    "        self._out = nn.Sequential(\n",
    "            nn.Conv2d(\n",
    "                in_channels=n_channels, out_channels=4 * n_channels, kernel_size=1\n",
    "            ),\n",
    "            nn.GELU(),\n",
    "            nn.Conv2d(\n",
    "                in_channels=4 * n_channels, out_channels=n_channels, kernel_size=1\n",
    "            ),\n",
    "        )\n",
    "\n",
    "    def forward(self, x):\n",
    "        x = x + self._attn(self._ln1(x))\n",
    "        return x + self._out(self._ln2(x))\n",
    "\n",
    "class ImageGPT(base.AutoregressiveModel):\n",
    "    \"\"\"The ImageGPT Model.\n",
    "\n",
    "    Unlike [1], our implementation operates over image inputs, instead of\n",
    "    embeddings. Furthermore, we implement skip connections from each block to the\n",
    "    output. We find that this makes training a lot more stable and allows for much\n",
    "    faster convergence.\n",
    "    \"\"\"\n",
    "\n",
    "    def __init__(\n",
    "        self,\n",
    "        in_channels=1,\n",
    "        out_channels=1,\n",
    "        in_size_0=28,\n",
    "        in_size_1=28,\n",
    "        n_transformer_blocks=8,\n",
    "        n_attention_heads=4,\n",
    "        n_embedding_channels=16,\n",
    "        sample_fn=None,\n",
    "    ):\n",
    "        \"\"\"Initializes a new ImageGPT instance.\n",
    "\n",
    "        Args:\n",
    "            in_channels: The number of input channels.\n",
    "            out_channels: The number of output channels.\n",
    "            in_size: Size of the input images. Used to create positional encodings.\n",
    "            n_transformer_blocks: Number of TransformerBlocks to use.\n",
    "            n_attention_heads: Number of attention heads to use.\n",
    "            n_embedding_channels: Number of attention embedding channels to use.\n",
    "            sample_fn: See the base class.\n",
    "        \"\"\"\n",
    "        super().__init__(sample_fn)\n",
    "        self._pos = nn.Parameter(torch.zeros(1, in_channels, in_size_0, in_size_1))\n",
    "        self._input_1 = pg_nn.CausalConv2d(\n",
    "            mask_center=True,\n",
    "            in_channels=in_channels,\n",
    "            out_channels=in_channels,\n",
    "            kernel_size=3,\n",
    "            padding=1,\n",
    "        )\n",
    "        self._input_2 = pg_nn.CausalConv2d(\n",
    "            mask_center=True,\n",
    "            in_channels=in_channels,\n",
    "            out_channels=n_embedding_channels,\n",
    "            kernel_size=3,\n",
    "            padding=1,\n",
    "        )\n",
    "\n",
    "        self._transformer = nn.ModuleList(\n",
    "            TransformerBlock(\n",
    "                n_channels=n_embedding_channels, n_attention_heads=n_attention_heads\n",
    "            )\n",
    "            for _ in range(n_transformer_blocks)\n",
    "        )\n",
    "        self._ln = pg_nn.NCHWLayerNorm(n_embedding_channels)\n",
    "        self._out_1 = nn.Conv2d(\n",
    "            in_channels=n_embedding_channels, out_channels=out_channels, kernel_size=1\n",
    "        )\n",
    "        self._out_2 = nn.Conv2d(\n",
    "            in_channels=out_channels, out_channels=out_channels, kernel_size=1\n",
    "        )\n",
    "\n",
    "    def forward(self, x):\n",
    "        #x = self._input_1(x + self._pos)\n",
    "        #x = self._input_1(x + self._pos)\n",
    "        #x = self._input_1(x + self._pos)\n",
    "        #x = self._input_1(x + self._pos)\n",
    "        x = self._input_2(x + self._pos)\n",
    "        for block in self._transformer:\n",
    "            x = x + block(x)\n",
    "        #x = self._out_1(x)\n",
    "        #x = self._out_1(self._ln(x))\n",
    "        return self._out_1(self._ln(x))\n",
    "\n",
    "def reproduce(\n",
    "    n_epochs=457,\n",
    "    batch_size=64,\n",
    "    log_dir=\"/home/munasir/image-gpt/igpt-pytorch/pytorch-generative\",\n",
    "    n_gpus=1,\n",
    "    device_id=0,\n",
    "    debug_loader=None,\n",
    "):\n",
    "    \"\"\"Training script with defaults to reproduce results.\n",
    "    The code inside this function is self contained and can be used as a top level\n",
    "    training script, e.g. by copy/pasting it into a Jupyter notebook.\n",
    "    Args:\n",
    "        n_epochs: Number of epochs to train for.\n",
    "        batch_size: Batch size to use for training and evaluation.\n",
    "        log_dir: Directory where to log trainer state and TensorBoard summaries.\n",
    "        n_gpus: Number of GPUs to use for training the model. If 0, uses CPU.\n",
    "        device_id: The device_id of the current GPU when training on multiple GPUs.\n",
    "        debug_loader: Debug DataLoader which replaces the default training and\n",
    "            evaluation loaders if not 'None'. Do not use unless you're writing unit\n",
    "            tests.\n",
    "    \"\"\"\n",
    "    from torch import optim\n",
    "    from torch.nn import functional as F\n",
    "    from torch.optim import lr_scheduler\n",
    "\n",
    "    from pytorch_generative import datasets\n",
    "    from pytorch_generative import models\n",
    "    from pytorch_generative import trainer\n",
    "\n",
    "    train_loader, train_eval_loader = debug_loader, debug_loader\n",
    "    if train_loader is None:\n",
    "        train_loader, train_eval_loader = get_mario_loaders(\n",
    "            batch_size, dynamically_binarize=False\n",
    "        )\n",
    "\n",
    "    model = ImageGPT(\n",
    "        in_channels=3,\n",
    "        out_channels=3,\n",
    "        in_size_0=14,\n",
    "        in_size_1=200,\n",
    "        n_transformer_blocks=5,\n",
    "        n_attention_heads=8,\n",
    "        n_embedding_channels=16,\n",
    "    )\n",
    "    optimizer = optim.Adam(model.parameters(), lr=5e-3)#5e-3\n",
    "    scheduler = lr_scheduler.MultiplicativeLR(optimizer, lr_lambda=lambda _: 0.999977)\n",
    "\n",
    "    def loss_fn(x, _, preds):\n",
    "        x = torch.tensor(x, dtype=torch.float32)\n",
    "        batch_size = x.shape[0]\n",
    "        x, preds = x.reshape((batch_size, -1)), preds.reshape((batch_size, -1))\n",
    "        loss = F.binary_cross_entropy_with_logits(preds, x, reduction=\"none\")\n",
    "        return loss.sum(dim=1).mean()\n",
    "\n",
    "    model_trainer = trainer.Trainer(\n",
    "        model=model,\n",
    "        loss_fn=loss_fn,\n",
    "        optimizer=optimizer,\n",
    "        train_loader=train_loader,\n",
    "        eval_loader=train_eval_loader,\n",
    "        lr_scheduler=scheduler,\n",
    "        log_dir=log_dir,\n",
    "        n_gpus=n_gpus,\n",
    "        device_id=device_id,\n",
    "    )\n",
    "    \n",
    "    model_trainer.interleaved_train_and_eval(n_epochs)\n",
    "\n",
    "    return model\n",
    "\n"
   ]
  },
  {
   "cell_type": "code",
   "execution_count": null,
   "metadata": {},
   "outputs": [
    {
     "name": "stderr",
     "output_type": "stream",
     "text": [
      "Failed to detect the name of this notebook, you can set it manually with the WANDB_NOTEBOOK_NAME environment variable to enable code saving.\n",
      "\u001b[34m\u001b[1mwandb\u001b[0m: Currently logged in as: \u001b[33mmunasir\u001b[0m. Use \u001b[1m`wandb login --relogin`\u001b[0m to force relogin\n"
     ]
    },
    {
     "data": {
      "text/html": [
       "Tracking run with wandb version 0.13.2"
      ],
      "text/plain": [
       "<IPython.core.display.HTML object>"
      ]
     },
     "metadata": {},
     "output_type": "display_data"
    },
    {
     "data": {
      "text/html": [
       "Run data is saved locally in <code>/home/munasir/image-gpt/igpt-pytorch/pytorch-generative/wandb/run-20220905_221118-2jf5t8ve</code>"
      ],
      "text/plain": [
       "<IPython.core.display.HTML object>"
      ]
     },
     "metadata": {},
     "output_type": "display_data"
    },
    {
     "data": {
      "text/html": [
       "Syncing run <strong><a href=\"https://wandb.ai/munasir/Transformer-Mario-PCG/runs/2jf5t8ve\" target=\"_blank\">wobbly-snowball-58</a></strong> to <a href=\"https://wandb.ai/munasir/Transformer-Mario-PCG\" target=\"_blank\">Weights & Biases</a> (<a href=\"https://wandb.me/run\" target=\"_blank\">docs</a>)<br/>"
      ],
      "text/plain": [
       "<IPython.core.display.HTML object>"
      ]
     },
     "metadata": {},
     "output_type": "display_data"
    },
    {
     "data": {
      "text/html": [
       "<button onClick=\"this.nextSibling.style.display='block';this.style.display='none';\">Display W&B run</button><iframe src=\"https://wandb.ai/munasir/Transformer-Mario-PCG/runs/2jf5t8ve?jupyter=true\" style=\"border:none;width:100%;height:420px;display:none;\"></iframe>"
      ],
      "text/plain": [
       "<wandb.sdk.wandb_run.Run at 0x7f8e38f64730>"
      ]
     },
     "execution_count": 11,
     "metadata": {},
     "output_type": "execute_result"
    }
   ],
   "source": [
    "wandb.init(project=\"Transformer-Mario-PCG\",config = {\n",
    "                    \"learning_rate\": 5e-3,\n",
    "                    \"epochs\": 100,\n",
    "                    \"batch_size\": 1,\n",
    "                    \"in_size_0\":14,\n",
    "                    \"in_size_1\":200,\n",
    "                    \"n_transformer_blocks\":5,\n",
    "                    \"n_attention_heads\":8,\n",
    "                    \"n_embedding_channels\":16,\n",
    "                    'cnn_layers':1,\n",
    "                    \"Images\": 1000\n",
    "                    })\n"
   ]
  },
  {
   "cell_type": "code",
   "execution_count": 13,
   "metadata": {},
   "outputs": [
    {
     "name": "stdout",
     "output_type": "stream",
     "text": [
      "Found 422 saved checkpoints.\n",
      "Restoring trainer state from checkpoint trainer_state_422.ckpt.\n"
     ]
    }
   ],
   "source": [
    "model = reproduce(n_epochs=422,batch_size=1)"
   ]
  },
  {
   "cell_type": "code",
   "execution_count": 14,
   "metadata": {},
   "outputs": [
    {
     "name": "stdout",
     "output_type": "stream",
     "text": [
      "total_params: 25427\n",
      "trainable_params: 25427\n"
     ]
    }
   ],
   "source": [
    "total_params = sum(\n",
    "\tparam.numel() for param in model.parameters()\n",
    ")\n",
    "print(f\"total_params: {total_params}\")\n",
    "\n",
    "trainable_params = sum(\n",
    "\tp.numel() for p in model.parameters() if p.requires_grad\n",
    ")\n",
    "\n",
    "print(f\"trainable_params: {trainable_params}\")\n"
   ]
  },
  {
   "cell_type": "code",
   "execution_count": 15,
   "metadata": {},
   "outputs": [],
   "source": [
    "def reshape_output_image(image, imsize=(100, 100)):\n",
    "  \"\"\"Reshapes the given image to (imsize, imsize, 3).\"\"\"\n",
    "  width, height = imsize\n",
    "  return image.reshape(width, height, 3).permute(2,0,1)\n",
    "\n",
    "_IMAGE_UNLOADER = transforms.Compose(\n",
    "    [transforms.Lambda(lambda x: x.clone().squeeze(0)), transforms.ToPILImage()]\n",
    ")\n",
    "\n",
    "def imshow(batch_or_tensor, title=None, figsize=None, **kwargs):\n",
    "    \"\"\"Renders tensors as an image using Matplotlib.\n",
    "\n",
    "    Args:\n",
    "        batch_or_tensor: A batch or single tensor to render as images. If the batch size\n",
    "            > 1, the tensors are flattened into a horizontal strip before being\n",
    "            rendered.\n",
    "        title: The title for the rendered image. Passed to Matplotlib.\n",
    "        figsize: The size (in inches) for the image. Passed to Matplotlib.\n",
    "        **kwargs: Extra keyword arguments passed as pyplot.imshow(image, **kwargs).\n",
    "    \"\"\"\n",
    "    batch = batch_or_tensor\n",
    "    for _ in range(4 - batch.ndim):\n",
    "        batch = batch.unsqueeze(0)\n",
    "    n, c, h, w = batch.shape\n",
    "    tensor = batch.permute(1, 2, 0, 3).reshape(c, h, -1)\n",
    "    image = _IMAGE_UNLOADER(tensor)\n",
    "\n",
    "    plt.figure(figsize=figsize)\n",
    "    plt.title(title)\n",
    "    plt.axis(\"off\")\n",
    "    plt.imshow(image, **kwargs) "
   ]
  },
  {
   "cell_type": "code",
   "execution_count": 46,
   "metadata": {},
   "outputs": [
    {
     "name": "stdout",
     "output_type": "stream",
     "text": [
      "1693185.8\n",
      "1624658.4\n",
      "1668251.0\n"
     ]
    },
    {
     "data": {
      "image/png": "[encoded data removed]",
      "text/plain": [
       "<Figure size 640x480 with 1 Axes>"
      ]
     },
     "metadata": {},
     "output_type": "display_data"
    }
   ],
   "source": [
    "\n",
    "\n",
    "\n",
    "\n",
    "test_image_blank = np.array(Image.new('RGB',(200,14),'yellow')).transpose((2,0,1))\n",
    "test_image_blank = torch.from_numpy(test_image_blank).to('cuda:0')\n",
    "#test_image_blank = torch.to(test_image_blank.device)\n",
    "\n",
    "\n",
    "\n",
    "#image = np.array(Image.open('/home/munasir/image-gpt/igpt-pytorch/pytorch-generative/Mario/n-gram_0.png')).resize((200,14))\n",
    "#image = image.transpose((2,0,1))\n",
    "#image = torch.from_numpy(image).to('cuda:0')\n",
    "\n",
    "\n",
    "\n",
    "im_crop = Image.open('/home/munasir/image-gpt/igpt-pytorch/pytorch-generative/Mario/n-gram_0.png').resize((200,14))\n",
    "crop_range = (0,0,100,14)\n",
    "im_crop = im_crop.crop(crop_range)\n",
    "im2 = Image.new('RGB',(200,14),'white')\n",
    "im2.paste(im_crop,box=crop_range)\n",
    "image_crop = np.array(im2)\n",
    "image_crop = np.expand_dims(image_crop,axis=0)\n",
    "#image_crop = np.where(image_crop > 128,[256],[0])\n",
    "image_crop = image_crop.transpose((0,3,1,2))\n",
    "image_crop = torch.from_numpy(image_crop).to('cuda:0')\n",
    "\n",
    "def _default_sample_fn(logits):\n",
    "    return distributions.ContinuousBernoulli(logits=logits).sample()\n",
    "\n",
    "r = np.random.randint(low = 50,high=1000,size=(1,))\n",
    "n_samples = 1\n",
    "with torch.no_grad():\n",
    "    for _ in range(0,n_samples):\n",
    "        o = model.forward(image_crop)#next(model.parameters())\n",
    "        #o = _default_sample_fn(o)\n",
    "        #o = o / o.max()#Sometimes works sometimes dont\n",
    "        o = img_as_float(o.cpu().detach().numpy())#(o.cpu().detach().numpy())\n",
    "        \n",
    "        #o = o * 255\n",
    "\n",
    "        print(o.max())\n",
    "        print(o.min())\n",
    "        print(o.mean())\n",
    "\n",
    "    \n",
    "        imshow(torch.tensor(o[0]))\n",
    "        '''for rand in r:\n",
    "            o = model.forward(next(model.parameters())*rand)\n",
    "            o = o / o.max()#Sometimes works sometimes dont\n",
    "            o = img_as_float(o.cpu().detach().numpy())#(o.cpu().detach().numpy())\n",
    "\n",
    "\n",
    "            print(o.max())\n",
    "            print(o.min())\n",
    "            print(o.mean())\n",
    "\n",
    "            o = np.where(o>0.5,[1],[0])\n",
    "            imshow(torch.tensor(o[0], dtype=torch.float32),cmap='Greys')'''\n"
   ]
  },
  {
   "cell_type": "code",
   "execution_count": null,
   "metadata": {},
   "outputs": [
    {
     "data": {
      "text/plain": [
       "<matplotlib.image.AxesImage at 0x7fe584641db0>"
      ]
     },
     "execution_count": 16,
     "metadata": {},
     "output_type": "execute_result"
    },
    {
     "data": {
      "image/png": "[encoded data removed]",
      "text/plain": [
       "<Figure size 640x480 with 1 Axes>"
      ]
     },
     "metadata": {},
     "output_type": "display_data"
    }
   ],
   "source": [
    "a = Image.open('/home/munasir/image-gpt/igpt-pytorch/pytorch-generative/Mario/n-gram_0.png').resize((200,14))\n",
    "a = a.resize((3200,200))\n",
    "plt.imshow(a)"
   ]
  },
  {
   "cell_type": "code",
   "execution_count": null,
   "metadata": {},
   "outputs": [
    {
     "data": {
      "text/plain": [
       "<matplotlib.image.AxesImage at 0x7fe58468f5b0>"
      ]
     },
     "execution_count": 17,
     "metadata": {},
     "output_type": "execute_result"
    },
    {
     "data": {
      "image/png": "[encoded data removed]",
      "text/plain": [
       "<Figure size 640x480 with 1 Axes>"
      ]
     },
     "metadata": {},
     "output_type": "display_data"
    }
   ],
   "source": [
    "plt.imshow(Image.open('/home/munasir/image-gpt/igpt-pytorch/pytorch-generative/Mario/n-gram_0.png').resize((200,14)))"
   ]
  },
  {
   "cell_type": "code",
   "execution_count": null,
   "metadata": {},
   "outputs": [
    {
     "ename": "FileNotFoundError",
     "evalue": "[Errno 2] No such file or directory: '/home/munasir/image-gpt/Mario/n-gram_0.png'",
     "output_type": "error",
     "traceback": [
      "\u001b[0;31m---------------------------------------------------------------------------\u001b[0m",
      "\u001b[0;31mFileNotFoundError\u001b[0m                         Traceback (most recent call last)",
      "\u001b[1;32m/home/munasir/image-gpt/igpt-pytorch/pytorch-generative/mario-main.ipynb Cell 18\u001b[0m in \u001b[0;36m<cell line: 1>\u001b[0;34m()\u001b[0m\n\u001b[0;32m----> <a href='vscode-notebook-cell://wsl%2Bubuntu-20.04/home/munasir/image-gpt/igpt-pytorch/pytorch-generative/mario-main.ipynb#X23sdnNjb2RlLXJlbW90ZQ%3D%3D?line=0'>1</a>\u001b[0m im_crop \u001b[39m=\u001b[39m Image\u001b[39m.\u001b[39;49mopen(\u001b[39m'\u001b[39;49m\u001b[39m/home/munasir/image-gpt/Mario/n-gram_0.png\u001b[39;49m\u001b[39m'\u001b[39;49m)\u001b[39m.\u001b[39mresize((\u001b[39m200\u001b[39m,\u001b[39m14\u001b[39m))\n\u001b[1;32m      <a href='vscode-notebook-cell://wsl%2Bubuntu-20.04/home/munasir/image-gpt/igpt-pytorch/pytorch-generative/mario-main.ipynb#X23sdnNjb2RlLXJlbW90ZQ%3D%3D?line=1'>2</a>\u001b[0m crop_range \u001b[39m=\u001b[39m (\u001b[39m0\u001b[39m,\u001b[39m0\u001b[39m,\u001b[39m60\u001b[39m,\u001b[39m14\u001b[39m)\n\u001b[1;32m      <a href='vscode-notebook-cell://wsl%2Bubuntu-20.04/home/munasir/image-gpt/igpt-pytorch/pytorch-generative/mario-main.ipynb#X23sdnNjb2RlLXJlbW90ZQ%3D%3D?line=2'>3</a>\u001b[0m im_crop \u001b[39m=\u001b[39m im_crop\u001b[39m.\u001b[39mcrop(crop_range)\n",
      "File \u001b[0;32m~/anaconda3/envs/pytorch-gen2/lib/python3.10/site-packages/PIL/Image.py:3092\u001b[0m, in \u001b[0;36mopen\u001b[0;34m(fp, mode, formats)\u001b[0m\n\u001b[1;32m   3089\u001b[0m     filename \u001b[39m=\u001b[39m fp\n\u001b[1;32m   3091\u001b[0m \u001b[39mif\u001b[39;00m filename:\n\u001b[0;32m-> 3092\u001b[0m     fp \u001b[39m=\u001b[39m builtins\u001b[39m.\u001b[39;49mopen(filename, \u001b[39m\"\u001b[39;49m\u001b[39mrb\u001b[39;49m\u001b[39m\"\u001b[39;49m)\n\u001b[1;32m   3093\u001b[0m     exclusive_fp \u001b[39m=\u001b[39m \u001b[39mTrue\u001b[39;00m\n\u001b[1;32m   3095\u001b[0m \u001b[39mtry\u001b[39;00m:\n",
      "\u001b[0;31mFileNotFoundError\u001b[0m: [Errno 2] No such file or directory: '/home/munasir/image-gpt/Mario/n-gram_0.png'"
     ]
    }
   ],
   "source": [
    "im_crop = Image.open('/home/munasir/image-gpt/Mario/n-gram_0.png').resize((200,14))\n",
    "crop_range = (0,0,60,14)\n",
    "im_crop = im_crop.crop(crop_range)\n",
    "#im_crop.save('/home/munasir/image-gpt/Mario/n-gram_0a.png', quality=95)"
   ]
  },
  {
   "cell_type": "code",
   "execution_count": null,
   "metadata": {},
   "outputs": [
    {
     "data": {
      "text/plain": [
       "<matplotlib.image.AxesImage at 0x7f72746f4d60>"
      ]
     },
     "execution_count": 86,
     "metadata": {},
     "output_type": "execute_result"
    },
    {
     "data": {
      "image/png": "[encoded data removed]",
      "text/plain": [
       "<Figure size 640x480 with 1 Axes>"
      ]
     },
     "metadata": {},
     "output_type": "display_data"
    }
   ],
   "source": [
    "im2 = Image.new('RGB',(200,14),color='white')\n",
    "im2.paste(im_crop,box=crop_range)\n",
    "im2 = np.array(im2)\n",
    "plt.imshow(im2)"
   ]
  },
  {
   "cell_type": "code",
   "execution_count": null,
   "metadata": {},
   "outputs": [],
   "source": [
    "def loss_fn(x, preds):\n",
    "    x = torch.tensor(x, dtype=torch.float32)\n",
    "    batch_size = x.shape[0]\n",
    "    #x, preds = x.reshape((batch_size, -1)), preds.reshape((batch_size, -1))\n",
    "    loss = F.binary_cross_entropy_with_logits(preds, x)\n",
    "    return loss.sum(dim=1).mean()"
   ]
  },
  {
   "cell_type": "code",
   "execution_count": null,
   "metadata": {},
   "outputs": [],
   "source": [
    "x = Image.open('/home/munasir/image-gpt/maze_dataset_test/maze_0_generation.png').convert('RGB')\n",
    "x = np.array(x)\n",
    "x = torch.tensor(x)\n",
    "x = x / x.max()\n",
    "x = img_as_int(x)"
   ]
  },
  {
   "cell_type": "code",
   "execution_count": null,
   "metadata": {},
   "outputs": [
    {
     "ename": "TypeError",
     "evalue": "'int' object is not callable",
     "output_type": "error",
     "traceback": [
      "\u001b[0;31m---------------------------------------------------------------------------\u001b[0m",
      "\u001b[0;31mTypeError\u001b[0m                                 Traceback (most recent call last)",
      "\u001b[1;32m/home/munasir/image-gpt/igpt-pytorch/pytorch-generative/testing.ipynb Cell 24\u001b[0m in \u001b[0;36m<cell line: 1>\u001b[0;34m()\u001b[0m\n\u001b[0;32m----> <a href='vscode-notebook-cell://wsl%2Bubuntu-20.04/home/munasir/image-gpt/igpt-pytorch/pytorch-generative/testing.ipynb#X32sdnNjb2RlLXJlbW90ZQ%3D%3D?line=0'>1</a>\u001b[0m loss_fn(x,o[\u001b[39m0\u001b[39;49m])\n",
      "\u001b[1;32m/home/munasir/image-gpt/igpt-pytorch/pytorch-generative/testing.ipynb Cell 24\u001b[0m in \u001b[0;36mloss_fn\u001b[0;34m(x, preds)\u001b[0m\n\u001b[1;32m      <a href='vscode-notebook-cell://wsl%2Bubuntu-20.04/home/munasir/image-gpt/igpt-pytorch/pytorch-generative/testing.ipynb#X32sdnNjb2RlLXJlbW90ZQ%3D%3D?line=2'>3</a>\u001b[0m batch_size \u001b[39m=\u001b[39m x\u001b[39m.\u001b[39mshape[\u001b[39m0\u001b[39m]\n\u001b[1;32m      <a href='vscode-notebook-cell://wsl%2Bubuntu-20.04/home/munasir/image-gpt/igpt-pytorch/pytorch-generative/testing.ipynb#X32sdnNjb2RlLXJlbW90ZQ%3D%3D?line=3'>4</a>\u001b[0m \u001b[39m#x, preds = x.reshape((batch_size, -1)), preds.reshape((batch_size, -1))\u001b[39;00m\n\u001b[0;32m----> <a href='vscode-notebook-cell://wsl%2Bubuntu-20.04/home/munasir/image-gpt/igpt-pytorch/pytorch-generative/testing.ipynb#X32sdnNjb2RlLXJlbW90ZQ%3D%3D?line=4'>5</a>\u001b[0m loss \u001b[39m=\u001b[39m F\u001b[39m.\u001b[39;49mbinary_cross_entropy_with_logits(preds, x)\n\u001b[1;32m      <a href='vscode-notebook-cell://wsl%2Bubuntu-20.04/home/munasir/image-gpt/igpt-pytorch/pytorch-generative/testing.ipynb#X32sdnNjb2RlLXJlbW90ZQ%3D%3D?line=5'>6</a>\u001b[0m \u001b[39mreturn\u001b[39;00m loss\u001b[39m.\u001b[39msum(dim\u001b[39m=\u001b[39m\u001b[39m1\u001b[39m)\u001b[39m.\u001b[39mmean()\n",
      "File \u001b[0;32m~/anaconda3/envs/pytorch-gen2/lib/python3.10/site-packages/torch/nn/functional.py:3147\u001b[0m, in \u001b[0;36mbinary_cross_entropy_with_logits\u001b[0;34m(input, target, weight, size_average, reduce, reduction, pos_weight)\u001b[0m\n\u001b[1;32m   3144\u001b[0m \u001b[39melse\u001b[39;00m:\n\u001b[1;32m   3145\u001b[0m     reduction_enum \u001b[39m=\u001b[39m _Reduction\u001b[39m.\u001b[39mget_enum(reduction)\n\u001b[0;32m-> 3147\u001b[0m \u001b[39mif\u001b[39;00m \u001b[39mnot\u001b[39;00m (target\u001b[39m.\u001b[39msize() \u001b[39m==\u001b[39m \u001b[39minput\u001b[39;49m\u001b[39m.\u001b[39;49msize()):\n\u001b[1;32m   3148\u001b[0m     \u001b[39mraise\u001b[39;00m \u001b[39mValueError\u001b[39;00m(\u001b[39m\"\u001b[39m\u001b[39mTarget size (\u001b[39m\u001b[39m{}\u001b[39;00m\u001b[39m) must be the same as input size (\u001b[39m\u001b[39m{}\u001b[39;00m\u001b[39m)\u001b[39m\u001b[39m\"\u001b[39m\u001b[39m.\u001b[39mformat(target\u001b[39m.\u001b[39msize(), \u001b[39minput\u001b[39m\u001b[39m.\u001b[39msize()))\n\u001b[1;32m   3150\u001b[0m \u001b[39mreturn\u001b[39;00m torch\u001b[39m.\u001b[39mbinary_cross_entropy_with_logits(\u001b[39minput\u001b[39m, target, weight, pos_weight, reduction_enum)\n",
      "\u001b[0;31mTypeError\u001b[0m: 'int' object is not callable"
     ]
    }
   ],
   "source": [
    "loss_fn(x,o[0])"
   ]
  },
  {
   "cell_type": "code",
   "execution_count": null,
   "metadata": {},
   "outputs": [
    {
     "data": {
      "text/plain": [
       "(1, 3, 32, 32)"
      ]
     },
     "execution_count": 92,
     "metadata": {},
     "output_type": "execute_result"
    }
   ],
   "source": [
    "o.shape"
   ]
  },
  {
   "cell_type": "code",
   "execution_count": null,
   "metadata": {},
   "outputs": [],
   "source": [
    "model = torch.load('/home/munasir/image-gpt/igpt-pytorch/pytorch-generative/trainer_state_600.ckpt')"
   ]
  },
  {
   "cell_type": "code",
   "execution_count": null,
   "metadata": {},
   "outputs": [
    {
     "data": {
      "text/plain": [
       "torch.Size([256, 3, 3, 3])"
      ]
     },
     "execution_count": 27,
     "metadata": {},
     "output_type": "execute_result"
    }
   ],
   "source": [
    "model['model']['_input.weight'].shape"
   ]
  },
  {
   "cell_type": "code",
   "execution_count": null,
   "metadata": {},
   "outputs": [
    {
     "data": {
      "text/plain": [
       "7"
      ]
     },
     "execution_count": 30,
     "metadata": {},
     "output_type": "execute_result"
    }
   ],
   "source": [
    "len(model)"
   ]
  },
  {
   "cell_type": "code",
   "execution_count": null,
   "metadata": {},
   "outputs": [],
   "source": []
  }
 ],
 "metadata": {
  "kernelspec": {
   "display_name": "Python 3.10.4 ('pytorch-gen2')",
   "language": "python",
   "name": "python3"
  },
  "language_info": {
   "codemirror_mode": {
    "name": "ipython",
    "version": 3
   },
   "file_extension": ".py",
   "mimetype": "text/x-python",
   "name": "python",
   "nbconvert_exporter": "python",
   "pygments_lexer": "ipython3",
   "version": "3.10.4"
  },
  "orig_nbformat": 4,
  "vscode": {
   "interpreter": {
    "hash": "cbb45ef240170ca1f6915080ce05dea52aadf4b0a31fda6e46df89d5a6960cbc"
   }
  }
 },
 "nbformat": 4,
 "nbformat_minor": 2
}
